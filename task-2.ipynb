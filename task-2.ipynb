{
 "cells": [
  {
   "cell_type": "markdown",
   "metadata": {},
   "source": [
    "# Wedge Task 2\n",
    "___\n",
    "The second task of this project involves sampling a set of card holders and their transactions in the wedge data. \n",
    "### Connect to GBQ\n",
    "___"
   ]
  },
  {
   "cell_type": "code",
   "execution_count": 1,
   "metadata": {},
   "outputs": [],
   "source": [
    "from google.cloud import bigquery\n",
    "import random\n",
    "import pandas as pd"
   ]
  },
  {
   "cell_type": "code",
   "execution_count": 2,
   "metadata": {},
   "outputs": [],
   "source": [
    "client = bigquery.Client()"
   ]
  },
  {
   "cell_type": "markdown",
   "metadata": {},
   "source": [
    "### Build a List of Owners\n",
    "___\n"
   ]
  },
  {
   "cell_type": "code",
   "execution_count": 3,
   "metadata": {},
   "outputs": [],
   "source": [
    "# Query the unique card numbers\n",
    "query = \"\"\"\n",
    "    SELECT DISTINCT card_no\n",
    "    FROM `wedge-to-the-cloud.wedge_to_the_dataset.transactions`\n",
    "    WHERE card_no != 3\n",
    "\"\"\"\n",
    "\n",
    "# Execute the query\n",
    "query_job = client.query(query)\n",
    "\n",
    "# Convert the query result into a list\n",
    "card_nos = [row.card_no for row in query_job]"
   ]
  },
  {
   "cell_type": "markdown",
   "metadata": {},
   "source": [
    "### Take a Sample of the Owners\n",
    "___"
   ]
  },
  {
   "cell_type": "code",
   "execution_count": 4,
   "metadata": {},
   "outputs": [
    {
     "data": {
      "text/plain": [
       "'16384, 35266, 16671, 52518, 15783, 48680, 51795, 50317, 40998, 42428, 18035, 18294, 19902, 49256, 49476, 17724, 42378, 23664, 24567, 17367, 10809, 42393, 19091, 13863, 65324, 30264, 11967, 25863, 14078, 16672, 49214, 18038, 26770, 52625, 21753, 14284, 17288, 65306, 13721, 44276, 50093, 47522, 24222, 25600, 42868, 16575, 38716, 14349, 52693, 23013, 64285, 16662, 19735, 11487, 24197, 48812, 11276, 35705, 22991, 25152, 21532, 22789, 16513, 48015, 15929, 49846, 50560, 19370, 30243, 30341, 11541, 21353, 18168, 37587, 14659, 23050, 52254, 35020, 10137, 24110, 25115, 42269, 48381, 40987, 14042, 19527, 16278, 17153, 38616, 44629, 12898, 14607, 42490, 11602, 49255, 16106, 49443, 18904, 44880, 65739, 25267, 24806, 11596, 18083, 51427, 21621, 10202, 23322, 34307, 15988, 16451, 16038, 49173, 36339, 42464, 40718, 20661, 63433, 10557, 65920, 40237, 46387, 26896, 51472, 13124, 44399, 50308, 20495, 17261, 20748, 21986, 18334, 16101, 18380, 14055, 11010, 12302, 18586, 51759, 16832, 52066, 51034, 25464, 35358, 47624, 12887, 45023, 18135, 42173, 64961, 19960, 22585, 17052, 49381, 24320, 22606, 52053, 17966, 12674, 36215, 14560, 48356, 15128, 11067, 50295, 19436, 17794, 65800, 23909, 51959, 16607, 42159, 19105, 23105, 24074'"
      ]
     },
     "execution_count": 4,
     "metadata": {},
     "output_type": "execute_result"
    }
   ],
   "source": [
    "# Get a sample of 175 card numbers\n",
    "sample_card_nos = random.sample(card_nos, 175)\n",
    "\n",
    "# Convert the sampled card numbers to a comma-separated string\n",
    "sample_card_nos_str = ', '.join(str(card) for card in sample_card_nos)\n",
    "\n",
    "sample_card_nos_str"
   ]
  },
  {
   "cell_type": "markdown",
   "metadata": {},
   "source": [
    "### Extract Records and Save Locally\n",
    "___"
   ]
  },
  {
   "cell_type": "code",
   "execution_count": 5,
   "metadata": {},
   "outputs": [],
   "source": [
    "# Query the sample of card numbers\n",
    "query = f\"\"\"\n",
    "    SELECT *\n",
    "    FROM `wedge-to-the-cloud.wedge_to_the_dataset.transactions`\n",
    "    WHERE card_no IN ({sample_card_nos_str})\n",
    "\"\"\"\n",
    "\n",
    "# Execute the query\n",
    "query_job = client.query(query)\n",
    "\n",
    "# Convert the query to a list\n",
    "results = [dict(row) for row in query_job]"
   ]
  },
  {
   "cell_type": "code",
   "execution_count": 6,
   "metadata": {},
   "outputs": [],
   "source": [
    "# Convert the results into a pandas DataFrame\n",
    "results_df = pd.DataFrame(results)"
   ]
  },
  {
   "cell_type": "code",
   "execution_count": 7,
   "metadata": {},
   "outputs": [
    {
     "name": "stdout",
     "output_type": "stream",
     "text": [
      "DataFrame size: 280.37 MB\n"
     ]
    }
   ],
   "source": [
    "# Get the memory usage in bytes\n",
    "memory_bytes = results_df.memory_usage(deep=True).sum()\n",
    "\n",
    "# Convert bytes to megabytes (1 MB = 1024 * 1024 bytes)\n",
    "memory_mb = memory_bytes / (1024 ** 2)\n",
    "\n",
    "print(f\"DataFrame size: {memory_mb:.2f} MB\")"
   ]
  },
  {
   "cell_type": "code",
   "execution_count": 8,
   "metadata": {},
   "outputs": [],
   "source": [
    "# Save to a txt file in the data folder\n",
    "results_df.to_csv('data/card_no_sample.txt', index=False, sep= ',')"
   ]
  }
 ],
 "metadata": {
  "kernelspec": {
   "display_name": "Python 3",
   "language": "python",
   "name": "python3"
  },
  "language_info": {
   "codemirror_mode": {
    "name": "ipython",
    "version": 3
   },
   "file_extension": ".py",
   "mimetype": "text/x-python",
   "name": "python",
   "nbconvert_exporter": "python",
   "pygments_lexer": "ipython3",
   "version": "3.11.6"
  }
 },
 "nbformat": 4,
 "nbformat_minor": 2
}
