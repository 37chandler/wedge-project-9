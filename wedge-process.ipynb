{
 "cells": [
  {
   "cell_type": "markdown",
   "metadata": {},
   "source": [
    "# ADA: Wedge Process\n",
    "\n",
    "This repository builds on our Wedge Exploration exercise. This exercise will help you carry out the Wedge project\n",
    "at an A level. \n",
    "\n",
    "You'll write code that carries out the following steps: \n",
    "\n",
    "1. Create an empty data frame called `wedge_summary` with the following columns: file_name, num_rows, num_cards, num_dates\n",
    "1. Iterate over the zip files that hold the Wedge transaction files\n",
    "2. Unzip each file one at a time (so this will be part of a `for` loop)\n",
    "3. Use the CSV sniffer to determine the delimiter and whether or not there is a header row. \n",
    "4. Read, or attempt to read, the file into a Pandas dataframe, using the delimiter and handling headers correctly. \n",
    "5. For each file, store a row in `wedge_summary` that holds the values listed above. `num_cards` should be the unique card numbers in the file and `num_dates` should be the number of dates.  "
   ]
  },
  {
   "cell_type": "code",
   "execution_count": 6,
   "metadata": {},
   "outputs": [],
   "source": [
    "import os\n",
    "import zipfile"
   ]
  },
  {
   "cell_type": "code",
   "execution_count": 12,
   "metadata": {},
   "outputs": [],
   "source": [
    "data_directory = \"data/WedgeZipOfZips/\""
   ]
  },
  {
   "cell_type": "code",
   "execution_count": 13,
   "metadata": {},
   "outputs": [
    {
     "name": "stdout",
     "output_type": "stream",
     "text": [
      "transArchive_201410_201412.zip\n",
      "transArchive_201301_201303_inactive.zip\n",
      "transArchive_201210_201212.zip\n",
      "transArchive_201609.zip\n",
      "transArchive_201608.zip\n",
      "transArchive_201201_201203.zip\n",
      "transArchive_201204_201206.zip\n",
      "transArchive_201407_201409.zip\n",
      "transArchive_201207_201209.zip\n",
      "transArchive_201404_201406.zip\n",
      "transArchive_201401_201403.zip\n",
      "transArchive_201404_201406_inactive.zip\n",
      "transArchive_201210_201212_inactive.zip\n",
      "transArchive_201307_201309_inactive.zip\n",
      "transArchive_201501_201503.zip\n",
      "transArchive_201307_201309.zip\n",
      "transArchive_201504_201506.zip\n",
      "transArchive_201304_201306.zip\n",
      "transArchive_201507_201509.zip\n",
      "transArchive_201301_201303.zip\n",
      "transArchive_201204_201206_inactive.zip\n",
      "transArchive_201410_201412_inactive.zip\n",
      "transArchive_201310_201312.zip\n",
      "transArchive_201106.zip\n",
      "transArchive_201110_201112.zip\n",
      "transArchive_201701.zip\n",
      "transArchive_201310_201312_inactive.zip\n",
      "transArchive_201105.zip\n",
      "transArchive_201104.zip\n",
      "transArchive_201510.zip\n",
      "transArchive_201201_201203_inactive.zip\n",
      "transArchive_201101_201103.zip\n",
      "transArchive_201107_201109.zip\n",
      "transArchive_201511.zip\n",
      "transArchive_201407_201409_inactive.zip\n",
      "transArchive_201512.zip\n",
      "transArchive_201603.zip\n",
      "transArchive_201304_201306_inactive.zip\n",
      "transArchive_201602.zip\n",
      "transArchive_201007_201009.zip\n",
      "transArchive_201001_201003.zip\n",
      "transArchive_201601.zip\n",
      "transArchive_201004_201006.zip\n",
      "transArchive_201207_201209_inactive.zip\n",
      "transArchive_201605.zip\n",
      "transArchive_201611.zip\n",
      "transArchive_201610.zip\n",
      "transArchive_201604.zip\n",
      "transArchive_201612.zip\n",
      "transArchive_201606.zip\n",
      "transArchive_201010_201012.zip\n",
      "transArchive_201401_201403_inactive.zip\n",
      "transArchive_201607.zip\n"
     ]
    }
   ],
   "source": [
    "for file in os.listdir(data_directory):\n",
    "    print(file)"
   ]
  },
  {
   "cell_type": "code",
   "execution_count": 19,
   "metadata": {},
   "outputs": [],
   "source": [
    "with zipfile.ZipFile(data_directory+file) as my_zip:\n",
    "    for zipped_file in my_zip.namelist():\n",
    "        x=my_zip.extract(zipped_file)"
   ]
  },
  {
   "cell_type": "markdown",
   "metadata": {},
   "source": [
    "- Make a connection to that file\n",
    "- Start Processing that file\n",
    "- Read it into polars and then start getting things out of it."
   ]
  },
  {
   "cell_type": "code",
   "execution_count": null,
   "metadata": {},
   "outputs": [],
   "source": []
  }
 ],
 "metadata": {
  "kernelspec": {
   "display_name": "Python 3",
   "language": "python",
   "name": "python3"
  },
  "language_info": {
   "codemirror_mode": {
    "name": "ipython",
    "version": 3
   },
   "file_extension": ".py",
   "mimetype": "text/x-python",
   "name": "python",
   "nbconvert_exporter": "python",
   "pygments_lexer": "ipython3",
   "version": "3.11.6"
  }
 },
 "nbformat": 4,
 "nbformat_minor": 2
}
